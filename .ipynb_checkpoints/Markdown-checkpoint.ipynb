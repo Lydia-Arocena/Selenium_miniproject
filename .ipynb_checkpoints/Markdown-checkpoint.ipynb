{
 "cells": [
  {
   "cell_type": "markdown",
   "id": "2d656002",
   "metadata": {},
   "source": [
    "# Selenium_project:\n",
    "\n",
    "![portada](LOGO.PNG)\n",
    "​\n",
    "\n",
    "Este proyecto tiene como objetivo verificar o rechazar las 5 hipótesis planteadas sobre los datos recabados de la página web Kenay Home a través de sus respectivas visualizaciones. \n",
    "\n",
    "Las hipótesis y las conclusiones a las que he llegado, tras el análisis realizado, son:\n",
    "​\n",
    "### 1. El precio de ningún artículo superaba los 3,000 euros antes de la rebaja:\n",
    "\n",
    "![grafico1](precio_original_1.jpg)\n",
    "\n",
    "Tal y como se puede apreciar en el gráfico, esta hipótesis es **FALSA** puesto que hay cuatro artículos cuyos precios originales estaban por encima de los 3,000€.\n",
    "\n",
    "### 2. La mayoría de los artículos tienen un plazo de entrega de 7 días:\n",
    "\n",
    "![grafico2](plazo_entrega_2.jpg)\n",
    "\n",
    "Como podemos apreciar en este gráfico,efectivamente, la mayoría de los artículos se entregan en el plazo de 7 días. Por tanto, esta hipótesis es **VERDADERA**.\n",
    "\n",
    "### 3. El 75% de los artículos están rebajados, al menos, en 900 euros:\n",
    "\n",
    "![grafico3](rebaja_3.jpg)\n",
    "\n",
    "Tal y como se demuestra en este gráfico,esta hipótesis es **FALSA**. Concretamente, la rebaja del 75% de los artículos es de, al menos, 651.42 €.\n",
    "\n",
    "### 4. Hay el mismo número de butacas rebajadas en Kenay que de pufs:\n",
    "\n",
    "![grafico4](tipo_4.JPG)\n",
    "\n",
    "Como podemos apreciar apreciar en este gráfico, esta hipótesis también es **FALSA**, pues hay una butaca más.\n",
    "\n",
    "### 5. Los precios de los sofás tras la rebaja rondan los 1,000 euros de media:\n",
    "\n",
    "![grafico5](precio_medio_rebaja_5.jpg)\n",
    "\n",
    "Tal y como se demuestra en en este último gráfico, los precios medios de los sofas rondan efectivamente los 1,000 € de media. Por tanto, esta hipótesis es **VERDADERA**.\n"
   ]
  }
 ],
 "metadata": {
  "kernelspec": {
   "display_name": "ironhack",
   "language": "python",
   "name": "ironhack"
  },
  "language_info": {
   "codemirror_mode": {
    "name": "ipython",
    "version": 3
   },
   "file_extension": ".py",
   "mimetype": "text/x-python",
   "name": "python",
   "nbconvert_exporter": "python",
   "pygments_lexer": "ipython3",
   "version": "3.8.5"
  }
 },
 "nbformat": 4,
 "nbformat_minor": 5
}
