{
 "cells": [
  {
   "cell_type": "code",
   "execution_count": 220,
   "id": "b13e63f3",
   "metadata": {},
   "outputs": [],
   "source": [
    "from selenium import webdriver\n",
    "from selenium.webdriver.chrome.options import Options\n",
    "import time\n",
    "import pandas as pd\n",
    "from selenium.webdriver.support.ui import Select\n",
    "from webdriver_manager.chrome import ChromeDriverManager\n",
    "from selenium.webdriver.common.keys import Keys\n",
    "import plotly.express as px\n",
    "import seaborn as sns\n",
    "import pandas as pd\n",
    "import plotly.graph_objects as go\n",
    "import seaborn as sns\n",
    "import matplotlib.pyplot as plt\n",
    "import pandas as pd\n",
    "import re\n",
    "%matplotlib inline\n",
    "%config Inlinebackend.figure_format= 'retina'\n",
    "sns.set_context(\"poster\")\n",
    "sns.set(rc={\"figure.figsize\": (12.,6.)})\n",
    "sns.set_style(\"whitegrid\")"
   ]
  },
  {
   "cell_type": "code",
   "execution_count": 49,
   "id": "5e21b288",
   "metadata": {},
   "outputs": [],
   "source": [
    "opciones=Options()\n",
    "\n",
    "opciones.add_experimental_option('excludeSwitches', ['enable-automation'])\n",
    "opciones.add_experimental_option('useAutomationExtension', False)\n",
    "opciones.headless=False    \n",
    "opciones.add_argument('--start-maximized')        \n",
    "opciones.add_argument('user-data-dir=selenium')    \n",
    "opciones.add_argument('--incognito')             "
   ]
  },
  {
   "cell_type": "code",
   "execution_count": 50,
   "id": "c0bbd0e5",
   "metadata": {},
   "outputs": [
    {
     "name": "stderr",
     "output_type": "stream",
     "text": [
      "<ipython-input-50-0aef7e9f8119>:1: DeprecationWarning: executable_path has been deprecated, please pass in a Service object\n",
      "  driver = webdriver.Chrome(\"./chromedriver.exe\")\n",
      "<ipython-input-50-0aef7e9f8119>:5: DeprecationWarning: find_element_by_* commands are deprecated. Please use find_element() instead\n",
      "  driver.find_element_by_css_selector(\"#ocr_home > div > div.col-container.row.sp-custom-4-1629202034759 > div.ocr_block_category.col-12.col-xl-6.float-right > div > span.ocr_home_box_content > span\").click()\n",
      "<ipython-input-50-0aef7e9f8119>:13: DeprecationWarning: find_element_by_* commands are deprecated. Please use find_element() instead\n",
      "  modelos.append(driver.find_element_by_xpath(f\"/html/body/div[1]/div[2]/div/div[2]/div[5]/div[2]/div[{sofa}]/div/div[2]/h2/a\").text)\n",
      "<ipython-input-50-0aef7e9f8119>:14: DeprecationWarning: find_element_by_* commands are deprecated. Please use find_element() instead\n",
      "  precios_rebajado.append(driver.find_element_by_xpath(f\"/html/body/div[1]/div[2]/div/div[2]/div[5]/div[2]/div[{sofa}]/div/div[2]/p/span[2]\").text)\n",
      "<ipython-input-50-0aef7e9f8119>:15: DeprecationWarning: find_element_by_* commands are deprecated. Please use find_element() instead\n",
      "  precios_originales.append(driver.find_element_by_xpath(f\"/html/body/div[1]/div[2]/div/div[2]/div[5]/div[2]/div[{sofa}]/div/div[2]/p/span[1]\").text)\n",
      "<ipython-input-50-0aef7e9f8119>:16: DeprecationWarning: find_element_by_* commands are deprecated. Please use find_element() instead\n",
      "  plazo_entrega.append(driver.find_element_by_xpath(f\"/html/body/div[1]/div[2]/div/div[2]/div[5]/div[2]/div[{sofa}]/div/div[2]/div\").text)\n"
     ]
    },
    {
     "name": "stdout",
     "output_type": "stream",
     "text": [
      "no se puede\n",
      "no se puede\n",
      "no se puede\n"
     ]
    }
   ],
   "source": [
    "driver = webdriver.Chrome(\"./chromedriver.exe\")\n",
    "url= \"https://kenayhome.com/es/\"\n",
    "driver.get(url)\n",
    "driver.implicitly_wait(5)\n",
    "driver.find_element_by_css_selector(\"#ocr_home > div > div.col-container.row.sp-custom-4-1629202034759 > div.ocr_block_category.col-12.col-xl-6.float-right > div > span.ocr_home_box_content > span\").click()\n",
    "\n",
    "modelos=[]\n",
    "precios_rebajado=[]\n",
    "precios_originales=[]\n",
    "plazo_entrega=[]\n",
    "for sofa in range(1,36):\n",
    "    try:\n",
    "        modelos.append(driver.find_element_by_xpath(f\"/html/body/div[1]/div[2]/div/div[2]/div[5]/div[2]/div[{sofa}]/div/div[2]/h2/a\").text)\n",
    "        precios_rebajado.append(driver.find_element_by_xpath(f\"/html/body/div[1]/div[2]/div/div[2]/div[5]/div[2]/div[{sofa}]/div/div[2]/p/span[2]\").text)\n",
    "        precios_originales.append(driver.find_element_by_xpath(f\"/html/body/div[1]/div[2]/div/div[2]/div[5]/div[2]/div[{sofa}]/div/div[2]/p/span[1]\").text)\n",
    "        plazo_entrega.append(driver.find_element_by_xpath(f\"/html/body/div[1]/div[2]/div/div[2]/div[5]/div[2]/div[{sofa}]/div/div[2]/div\").text)\n",
    "    except:\n",
    "        print(\"no se puede\")"
   ]
  },
  {
   "cell_type": "code",
   "execution_count": 23,
   "id": "d5f35364",
   "metadata": {},
   "outputs": [
    {
     "data": {
      "text/plain": [
       "['CRATE SOFÁ CHAISE PERLA',\n",
       " 'DOLMEN SOFÁ CHAISE PERLA',\n",
       " 'ONEL SOFÁ CAMA',\n",
       " 'DOLMEN SOFÁ 3,5 PLAZAS CREMA',\n",
       " 'AIR SOFÁ 3,5 PLAZAS PERLA',\n",
       " 'BLOCK SOFÁ MODULAR',\n",
       " 'AIR SOFÁ CHAISE GRIS CLARO',\n",
       " 'SOHO SOFÁ',\n",
       " 'OLYMPE SOFÁ',\n",
       " 'ENZO BUTACA',\n",
       " 'ZUIV BUTACA AQUA',\n",
       " 'ZUIV BUTACA GRIS',\n",
       " 'ORNEL PUF',\n",
       " 'PIERO SOFÁ 3 PLAZAS',\n",
       " 'PIERO SOFÁ',\n",
       " 'OHIO SOFÁ',\n",
       " 'JUNE SOFÁ CON ARCÓN',\n",
       " 'CLAUD PUF ARCÓN MOSTAZA',\n",
       " 'FRAYA BUTACA',\n",
       " 'CLAUD PUF ARCÓN GRIS',\n",
       " 'LOFT SOFÁ 2,5 PLAZAS',\n",
       " 'DALLAS SOFÁ CAMA GRIS',\n",
       " 'LOFT SOFÁ + PUF',\n",
       " 'DALLAS SOFÁ CAMA BEIGE',\n",
       " 'OWEN SOFÁ CAMA GRIS',\n",
       " 'OWEN SOFÁ CAMA BEIGE',\n",
       " 'SOUND SOFÁ',\n",
       " 'FEZ SOFÁ 2 PLAZAS',\n",
       " 'PENTA SOFÁ PATAS NATURAL 3 PLAZAS',\n",
       " 'CRATE SOFÁ',\n",
       " 'DUVER SOFÁ CAMA',\n",
       " 'LUMB SOFÁ ELÉCTRICO']"
      ]
     },
     "execution_count": 23,
     "metadata": {},
     "output_type": "execute_result"
    }
   ],
   "source": [
    "modelos\n"
   ]
  },
  {
   "cell_type": "code",
   "execution_count": 24,
   "id": "28047fac",
   "metadata": {},
   "outputs": [
    {
     "data": {
      "text/plain": [
       "['1.429,00 €',\n",
       " '1.435,35 €',\n",
       " '719,10 €',\n",
       " '929,00 €',\n",
       " '929,00 €',\n",
       " '999,00 €',\n",
       " '1.505,66 €',\n",
       " '899,00 €',\n",
       " '1.499,00 €',\n",
       " '242,10 €',\n",
       " '233,10 €',\n",
       " '233,10 €',\n",
       " '143,10 €',\n",
       " '499,00 €',\n",
       " '799,00 €',\n",
       " '1.299,00 €',\n",
       " '999,00 €',\n",
       " '53,10 €',\n",
       " '224,10 €',\n",
       " '53,10 €',\n",
       " '872,10 €',\n",
       " '341,10 €',\n",
       " '1.475,10 €',\n",
       " '341,10 €',\n",
       " '359,10 €',\n",
       " '359,10 €',\n",
       " '1.698,14 €',\n",
       " '1.079,10 €',\n",
       " '989,10 €',\n",
       " '1.673,33 €',\n",
       " '899,10 €',\n",
       " '1.889,10 €']"
      ]
     },
     "execution_count": 24,
     "metadata": {},
     "output_type": "execute_result"
    }
   ],
   "source": [
    "precios_rebajado"
   ]
  },
  {
   "cell_type": "code",
   "execution_count": 87,
   "id": "82b9e5f7",
   "metadata": {},
   "outputs": [
    {
     "data": {
      "text/plain": [
       "['2.479,00 €',\n",
       " '3.398,00 €',\n",
       " '799,00 €',\n",
       " '2.398,00 €',\n",
       " '2.398,00 €',\n",
       " '1.299,00 €',\n",
       " '3.398,00 €',\n",
       " '1.149,00 €',\n",
       " '1.699,00 €',\n",
       " '269,00 €',\n",
       " '259,00 €',\n",
       " '259,00 €',\n",
       " '159,00 €',\n",
       " '699,00 €',\n",
       " '1.099,00 €',\n",
       " '1.899,00 €',\n",
       " '1.159,00 €',\n",
       " '59,00 €',\n",
       " '249,00 €',\n",
       " '59,00 €',\n",
       " '1.140,00 €',\n",
       " '379,00 €',\n",
       " '1.928,24 €',\n",
       " '379,00 €',\n",
       " '399,00 €',\n",
       " '399,00 €',\n",
       " '3.198,00 €',\n",
       " '1.598,67 €',\n",
       " '1.099,00 €',\n",
       " '2.479,00 €',\n",
       " '999,00 €',\n",
       " '4.198,00 €']"
      ]
     },
     "execution_count": 87,
     "metadata": {},
     "output_type": "execute_result"
    }
   ],
   "source": [
    "precios_originales"
   ]
  },
  {
   "cell_type": "code",
   "execution_count": 88,
   "id": "4dfbad01",
   "metadata": {},
   "outputs": [
    {
     "data": {
      "text/plain": [
       "['Envío en 7 días',\n",
       " 'Envío en 7 días',\n",
       " 'Envío en 35 días',\n",
       " 'Envío en 25 días',\n",
       " 'Envío en 25 días',\n",
       " 'Envío en 7 días',\n",
       " 'Envío en 7 días',\n",
       " 'Envío en 35 días',\n",
       " 'Envío en 7 días',\n",
       " 'Envío en 24/72h',\n",
       " 'Envío en 24/72h',\n",
       " 'Envío en 24/72h',\n",
       " 'Envío en 24/72h',\n",
       " 'Envío en 7 días',\n",
       " 'Envío en 15 días',\n",
       " 'Envío en 7 días',\n",
       " 'Envío en 20 días',\n",
       " 'Envío en 24/72h',\n",
       " 'Envío en 24/72h',\n",
       " 'Envío en 24/72h',\n",
       " 'Envío en 60 días',\n",
       " 'Envío en 7 días',\n",
       " 'Envío en 60 días',\n",
       " 'Envío en 7 días',\n",
       " 'Envío en 7 días',\n",
       " 'Envío en 7 días',\n",
       " 'Envío en 60 días',\n",
       " 'Envío en 60 días',\n",
       " 'Envío en 75 días',\n",
       " 'Envío en 60 días',\n",
       " 'Envío en 7 días',\n",
       " 'Envío en 60 días']"
      ]
     },
     "execution_count": 88,
     "metadata": {},
     "output_type": "execute_result"
    }
   ],
   "source": [
    "plazo_entrega"
   ]
  },
  {
   "cell_type": "code",
   "execution_count": 89,
   "id": "82e084f2",
   "metadata": {},
   "outputs": [],
   "source": [
    "df=pd.DataFrame(modelos,precios_rebajado).reset_index()"
   ]
  },
  {
   "cell_type": "code",
   "execution_count": 90,
   "id": "f5d9df07",
   "metadata": {},
   "outputs": [],
   "source": [
    "diccio_nuevas={\"index\":\"precios_rebajado\",0:\"modelos\"}"
   ]
  },
  {
   "cell_type": "code",
   "execution_count": 91,
   "id": "d81a1b4e",
   "metadata": {},
   "outputs": [],
   "source": [
    "df.rename(columns = diccio_nuevas, inplace=True)"
   ]
  },
  {
   "cell_type": "code",
   "execution_count": 92,
   "id": "6e2f90da",
   "metadata": {},
   "outputs": [],
   "source": [
    "df[\"precios_original\"]=precios_originales"
   ]
  },
  {
   "cell_type": "code",
   "execution_count": 94,
   "id": "ffa4eab2",
   "metadata": {},
   "outputs": [],
   "source": [
    "df[\"plazo_entrega\"]=plazo_entrega"
   ]
  },
  {
   "cell_type": "code",
   "execution_count": 96,
   "id": "69eba8a3",
   "metadata": {},
   "outputs": [],
   "source": [
    "def convert_float(x):\n",
    "    return float(x.split(\" \")[0].replace(\".\", \"\").replace(\",\", \".\"))"
   ]
  },
  {
   "cell_type": "code",
   "execution_count": 97,
   "id": "9ff19d2b",
   "metadata": {},
   "outputs": [],
   "source": [
    "df[\"precios_original\"]=df[\"precios_original\"].apply(convert_float)"
   ]
  },
  {
   "cell_type": "code",
   "execution_count": 98,
   "id": "894498a5",
   "metadata": {},
   "outputs": [],
   "source": [
    "df[\"precios_rebajado\"]=df[\"precios_rebajado\"].apply(convert_float)"
   ]
  },
  {
   "cell_type": "code",
   "execution_count": 99,
   "id": "0f16d2c1",
   "metadata": {},
   "outputs": [],
   "source": [
    "df[\"rebaja\"]=df[\"precios_original\"]-df[\"precios_rebajado\"]"
   ]
  },
  {
   "cell_type": "code",
   "execution_count": 174,
   "id": "9c20f380",
   "metadata": {},
   "outputs": [],
   "source": [
    "def tipo(x):\n",
    "    dicc_tipo={\n",
    "            \"SOFÁ\":re.search(\".*[S](OFÁ).*\",str(x)),\n",
    "            \"PUF\":re.search(\".*[P](UF).*\",str(x)),\n",
    "            \"BUTACA\":re.search(\".*[B](UTACA).*\",str(x))}\n",
    "    for key,values in dicc_tipo.items():\n",
    "        if values:\n",
    "            return key"
   ]
  },
  {
   "cell_type": "code",
   "execution_count": 175,
   "id": "8c79af4c",
   "metadata": {},
   "outputs": [],
   "source": [
    "df[\"tipo\"]=df[\"modelos\"].apply(tipo)"
   ]
  },
  {
   "cell_type": "code",
   "execution_count": 176,
   "id": "5c616b0c",
   "metadata": {},
   "outputs": [],
   "source": [
    "df=df[['modelos','tipo','precios_original','precios_rebajado','rebaja','plazo_entrega']]"
   ]
  },
  {
   "cell_type": "code",
   "execution_count": 179,
   "id": "9ec653d4",
   "metadata": {},
   "outputs": [
    {
     "data": {
      "text/html": [
       "<div>\n",
       "<style scoped>\n",
       "    .dataframe tbody tr th:only-of-type {\n",
       "        vertical-align: middle;\n",
       "    }\n",
       "\n",
       "    .dataframe tbody tr th {\n",
       "        vertical-align: top;\n",
       "    }\n",
       "\n",
       "    .dataframe thead th {\n",
       "        text-align: right;\n",
       "    }\n",
       "</style>\n",
       "<table border=\"1\" class=\"dataframe\">\n",
       "  <thead>\n",
       "    <tr style=\"text-align: right;\">\n",
       "      <th></th>\n",
       "      <th>modelos</th>\n",
       "      <th>tipo</th>\n",
       "      <th>precios_original</th>\n",
       "      <th>precios_rebajado</th>\n",
       "      <th>rebaja</th>\n",
       "      <th>plazo_entrega</th>\n",
       "    </tr>\n",
       "  </thead>\n",
       "  <tbody>\n",
       "    <tr>\n",
       "      <th>0</th>\n",
       "      <td>CRATE SOFÁ CHAISE PERLA</td>\n",
       "      <td>SOFÁ</td>\n",
       "      <td>2479.00</td>\n",
       "      <td>1429.00</td>\n",
       "      <td>1050.00</td>\n",
       "      <td>Envío en 7 días</td>\n",
       "    </tr>\n",
       "    <tr>\n",
       "      <th>1</th>\n",
       "      <td>DOLMEN SOFÁ CHAISE PERLA</td>\n",
       "      <td>SOFÁ</td>\n",
       "      <td>3398.00</td>\n",
       "      <td>1435.35</td>\n",
       "      <td>1962.65</td>\n",
       "      <td>Envío en 7 días</td>\n",
       "    </tr>\n",
       "    <tr>\n",
       "      <th>2</th>\n",
       "      <td>ONEL SOFÁ CAMA</td>\n",
       "      <td>SOFÁ</td>\n",
       "      <td>799.00</td>\n",
       "      <td>719.10</td>\n",
       "      <td>79.90</td>\n",
       "      <td>Envío en 35 días</td>\n",
       "    </tr>\n",
       "    <tr>\n",
       "      <th>3</th>\n",
       "      <td>DOLMEN SOFÁ 3,5 PLAZAS CREMA</td>\n",
       "      <td>SOFÁ</td>\n",
       "      <td>2398.00</td>\n",
       "      <td>929.00</td>\n",
       "      <td>1469.00</td>\n",
       "      <td>Envío en 25 días</td>\n",
       "    </tr>\n",
       "    <tr>\n",
       "      <th>4</th>\n",
       "      <td>AIR SOFÁ 3,5 PLAZAS PERLA</td>\n",
       "      <td>SOFÁ</td>\n",
       "      <td>2398.00</td>\n",
       "      <td>929.00</td>\n",
       "      <td>1469.00</td>\n",
       "      <td>Envío en 25 días</td>\n",
       "    </tr>\n",
       "    <tr>\n",
       "      <th>5</th>\n",
       "      <td>BLOCK SOFÁ MODULAR</td>\n",
       "      <td>SOFÁ</td>\n",
       "      <td>1299.00</td>\n",
       "      <td>999.00</td>\n",
       "      <td>300.00</td>\n",
       "      <td>Envío en 7 días</td>\n",
       "    </tr>\n",
       "    <tr>\n",
       "      <th>6</th>\n",
       "      <td>AIR SOFÁ CHAISE GRIS CLARO</td>\n",
       "      <td>SOFÁ</td>\n",
       "      <td>3398.00</td>\n",
       "      <td>1505.66</td>\n",
       "      <td>1892.34</td>\n",
       "      <td>Envío en 7 días</td>\n",
       "    </tr>\n",
       "    <tr>\n",
       "      <th>7</th>\n",
       "      <td>SOHO SOFÁ</td>\n",
       "      <td>SOFÁ</td>\n",
       "      <td>1149.00</td>\n",
       "      <td>899.00</td>\n",
       "      <td>250.00</td>\n",
       "      <td>Envío en 35 días</td>\n",
       "    </tr>\n",
       "    <tr>\n",
       "      <th>8</th>\n",
       "      <td>OLYMPE SOFÁ</td>\n",
       "      <td>SOFÁ</td>\n",
       "      <td>1699.00</td>\n",
       "      <td>1499.00</td>\n",
       "      <td>200.00</td>\n",
       "      <td>Envío en 7 días</td>\n",
       "    </tr>\n",
       "    <tr>\n",
       "      <th>9</th>\n",
       "      <td>ENZO BUTACA</td>\n",
       "      <td>BUTACA</td>\n",
       "      <td>269.00</td>\n",
       "      <td>242.10</td>\n",
       "      <td>26.90</td>\n",
       "      <td>Envío en 24/72h</td>\n",
       "    </tr>\n",
       "    <tr>\n",
       "      <th>10</th>\n",
       "      <td>ZUIV BUTACA AQUA</td>\n",
       "      <td>BUTACA</td>\n",
       "      <td>259.00</td>\n",
       "      <td>233.10</td>\n",
       "      <td>25.90</td>\n",
       "      <td>Envío en 24/72h</td>\n",
       "    </tr>\n",
       "    <tr>\n",
       "      <th>11</th>\n",
       "      <td>ZUIV BUTACA GRIS</td>\n",
       "      <td>BUTACA</td>\n",
       "      <td>259.00</td>\n",
       "      <td>233.10</td>\n",
       "      <td>25.90</td>\n",
       "      <td>Envío en 24/72h</td>\n",
       "    </tr>\n",
       "    <tr>\n",
       "      <th>12</th>\n",
       "      <td>ORNEL PUF</td>\n",
       "      <td>PUF</td>\n",
       "      <td>159.00</td>\n",
       "      <td>143.10</td>\n",
       "      <td>15.90</td>\n",
       "      <td>Envío en 24/72h</td>\n",
       "    </tr>\n",
       "    <tr>\n",
       "      <th>13</th>\n",
       "      <td>PIERO SOFÁ 3 PLAZAS</td>\n",
       "      <td>SOFÁ</td>\n",
       "      <td>699.00</td>\n",
       "      <td>499.00</td>\n",
       "      <td>200.00</td>\n",
       "      <td>Envío en 7 días</td>\n",
       "    </tr>\n",
       "    <tr>\n",
       "      <th>14</th>\n",
       "      <td>PIERO SOFÁ</td>\n",
       "      <td>SOFÁ</td>\n",
       "      <td>1099.00</td>\n",
       "      <td>799.00</td>\n",
       "      <td>300.00</td>\n",
       "      <td>Envío en 15 días</td>\n",
       "    </tr>\n",
       "    <tr>\n",
       "      <th>15</th>\n",
       "      <td>OHIO SOFÁ</td>\n",
       "      <td>SOFÁ</td>\n",
       "      <td>1899.00</td>\n",
       "      <td>1299.00</td>\n",
       "      <td>600.00</td>\n",
       "      <td>Envío en 7 días</td>\n",
       "    </tr>\n",
       "    <tr>\n",
       "      <th>16</th>\n",
       "      <td>JUNE SOFÁ CON ARCÓN</td>\n",
       "      <td>SOFÁ</td>\n",
       "      <td>1159.00</td>\n",
       "      <td>999.00</td>\n",
       "      <td>160.00</td>\n",
       "      <td>Envío en 20 días</td>\n",
       "    </tr>\n",
       "    <tr>\n",
       "      <th>17</th>\n",
       "      <td>CLAUD PUF ARCÓN MOSTAZA</td>\n",
       "      <td>PUF</td>\n",
       "      <td>59.00</td>\n",
       "      <td>53.10</td>\n",
       "      <td>5.90</td>\n",
       "      <td>Envío en 24/72h</td>\n",
       "    </tr>\n",
       "    <tr>\n",
       "      <th>18</th>\n",
       "      <td>FRAYA BUTACA</td>\n",
       "      <td>BUTACA</td>\n",
       "      <td>249.00</td>\n",
       "      <td>224.10</td>\n",
       "      <td>24.90</td>\n",
       "      <td>Envío en 24/72h</td>\n",
       "    </tr>\n",
       "    <tr>\n",
       "      <th>19</th>\n",
       "      <td>CLAUD PUF ARCÓN GRIS</td>\n",
       "      <td>PUF</td>\n",
       "      <td>59.00</td>\n",
       "      <td>53.10</td>\n",
       "      <td>5.90</td>\n",
       "      <td>Envío en 24/72h</td>\n",
       "    </tr>\n",
       "    <tr>\n",
       "      <th>20</th>\n",
       "      <td>LOFT SOFÁ 2,5 PLAZAS</td>\n",
       "      <td>SOFÁ</td>\n",
       "      <td>1140.00</td>\n",
       "      <td>872.10</td>\n",
       "      <td>267.90</td>\n",
       "      <td>Envío en 60 días</td>\n",
       "    </tr>\n",
       "    <tr>\n",
       "      <th>21</th>\n",
       "      <td>DALLAS SOFÁ CAMA GRIS</td>\n",
       "      <td>SOFÁ</td>\n",
       "      <td>379.00</td>\n",
       "      <td>341.10</td>\n",
       "      <td>37.90</td>\n",
       "      <td>Envío en 7 días</td>\n",
       "    </tr>\n",
       "    <tr>\n",
       "      <th>22</th>\n",
       "      <td>LOFT SOFÁ + PUF</td>\n",
       "      <td>SOFÁ</td>\n",
       "      <td>1928.24</td>\n",
       "      <td>1475.10</td>\n",
       "      <td>453.14</td>\n",
       "      <td>Envío en 60 días</td>\n",
       "    </tr>\n",
       "    <tr>\n",
       "      <th>23</th>\n",
       "      <td>DALLAS SOFÁ CAMA BEIGE</td>\n",
       "      <td>SOFÁ</td>\n",
       "      <td>379.00</td>\n",
       "      <td>341.10</td>\n",
       "      <td>37.90</td>\n",
       "      <td>Envío en 7 días</td>\n",
       "    </tr>\n",
       "    <tr>\n",
       "      <th>24</th>\n",
       "      <td>OWEN SOFÁ CAMA GRIS</td>\n",
       "      <td>SOFÁ</td>\n",
       "      <td>399.00</td>\n",
       "      <td>359.10</td>\n",
       "      <td>39.90</td>\n",
       "      <td>Envío en 7 días</td>\n",
       "    </tr>\n",
       "    <tr>\n",
       "      <th>25</th>\n",
       "      <td>OWEN SOFÁ CAMA BEIGE</td>\n",
       "      <td>SOFÁ</td>\n",
       "      <td>399.00</td>\n",
       "      <td>359.10</td>\n",
       "      <td>39.90</td>\n",
       "      <td>Envío en 7 días</td>\n",
       "    </tr>\n",
       "    <tr>\n",
       "      <th>26</th>\n",
       "      <td>SOUND SOFÁ</td>\n",
       "      <td>SOFÁ</td>\n",
       "      <td>3198.00</td>\n",
       "      <td>1698.14</td>\n",
       "      <td>1499.86</td>\n",
       "      <td>Envío en 60 días</td>\n",
       "    </tr>\n",
       "    <tr>\n",
       "      <th>27</th>\n",
       "      <td>FEZ SOFÁ 2 PLAZAS</td>\n",
       "      <td>SOFÁ</td>\n",
       "      <td>1598.67</td>\n",
       "      <td>1079.10</td>\n",
       "      <td>519.57</td>\n",
       "      <td>Envío en 60 días</td>\n",
       "    </tr>\n",
       "    <tr>\n",
       "      <th>28</th>\n",
       "      <td>PENTA SOFÁ PATAS NATURAL 3 PLAZAS</td>\n",
       "      <td>SOFÁ</td>\n",
       "      <td>1099.00</td>\n",
       "      <td>989.10</td>\n",
       "      <td>109.90</td>\n",
       "      <td>Envío en 75 días</td>\n",
       "    </tr>\n",
       "    <tr>\n",
       "      <th>29</th>\n",
       "      <td>CRATE SOFÁ</td>\n",
       "      <td>SOFÁ</td>\n",
       "      <td>2479.00</td>\n",
       "      <td>1673.33</td>\n",
       "      <td>805.67</td>\n",
       "      <td>Envío en 60 días</td>\n",
       "    </tr>\n",
       "    <tr>\n",
       "      <th>30</th>\n",
       "      <td>DUVER SOFÁ CAMA</td>\n",
       "      <td>SOFÁ</td>\n",
       "      <td>999.00</td>\n",
       "      <td>899.10</td>\n",
       "      <td>99.90</td>\n",
       "      <td>Envío en 7 días</td>\n",
       "    </tr>\n",
       "    <tr>\n",
       "      <th>31</th>\n",
       "      <td>LUMB SOFÁ ELÉCTRICO</td>\n",
       "      <td>SOFÁ</td>\n",
       "      <td>4198.00</td>\n",
       "      <td>1889.10</td>\n",
       "      <td>2308.90</td>\n",
       "      <td>Envío en 60 días</td>\n",
       "    </tr>\n",
       "  </tbody>\n",
       "</table>\n",
       "</div>"
      ],
      "text/plain": [
       "                              modelos    tipo  precios_original  \\\n",
       "0             CRATE SOFÁ CHAISE PERLA    SOFÁ           2479.00   \n",
       "1            DOLMEN SOFÁ CHAISE PERLA    SOFÁ           3398.00   \n",
       "2                      ONEL SOFÁ CAMA    SOFÁ            799.00   \n",
       "3        DOLMEN SOFÁ 3,5 PLAZAS CREMA    SOFÁ           2398.00   \n",
       "4           AIR SOFÁ 3,5 PLAZAS PERLA    SOFÁ           2398.00   \n",
       "5                  BLOCK SOFÁ MODULAR    SOFÁ           1299.00   \n",
       "6          AIR SOFÁ CHAISE GRIS CLARO    SOFÁ           3398.00   \n",
       "7                           SOHO SOFÁ    SOFÁ           1149.00   \n",
       "8                         OLYMPE SOFÁ    SOFÁ           1699.00   \n",
       "9                         ENZO BUTACA  BUTACA            269.00   \n",
       "10                   ZUIV BUTACA AQUA  BUTACA            259.00   \n",
       "11                   ZUIV BUTACA GRIS  BUTACA            259.00   \n",
       "12                          ORNEL PUF     PUF            159.00   \n",
       "13                PIERO SOFÁ 3 PLAZAS    SOFÁ            699.00   \n",
       "14                         PIERO SOFÁ    SOFÁ           1099.00   \n",
       "15                          OHIO SOFÁ    SOFÁ           1899.00   \n",
       "16                JUNE SOFÁ CON ARCÓN    SOFÁ           1159.00   \n",
       "17            CLAUD PUF ARCÓN MOSTAZA     PUF             59.00   \n",
       "18                       FRAYA BUTACA  BUTACA            249.00   \n",
       "19               CLAUD PUF ARCÓN GRIS     PUF             59.00   \n",
       "20               LOFT SOFÁ 2,5 PLAZAS    SOFÁ           1140.00   \n",
       "21              DALLAS SOFÁ CAMA GRIS    SOFÁ            379.00   \n",
       "22                    LOFT SOFÁ + PUF    SOFÁ           1928.24   \n",
       "23             DALLAS SOFÁ CAMA BEIGE    SOFÁ            379.00   \n",
       "24                OWEN SOFÁ CAMA GRIS    SOFÁ            399.00   \n",
       "25               OWEN SOFÁ CAMA BEIGE    SOFÁ            399.00   \n",
       "26                         SOUND SOFÁ    SOFÁ           3198.00   \n",
       "27                  FEZ SOFÁ 2 PLAZAS    SOFÁ           1598.67   \n",
       "28  PENTA SOFÁ PATAS NATURAL 3 PLAZAS    SOFÁ           1099.00   \n",
       "29                         CRATE SOFÁ    SOFÁ           2479.00   \n",
       "30                    DUVER SOFÁ CAMA    SOFÁ            999.00   \n",
       "31                LUMB SOFÁ ELÉCTRICO    SOFÁ           4198.00   \n",
       "\n",
       "    precios_rebajado   rebaja     plazo_entrega  \n",
       "0            1429.00  1050.00   Envío en 7 días  \n",
       "1            1435.35  1962.65   Envío en 7 días  \n",
       "2             719.10    79.90  Envío en 35 días  \n",
       "3             929.00  1469.00  Envío en 25 días  \n",
       "4             929.00  1469.00  Envío en 25 días  \n",
       "5             999.00   300.00   Envío en 7 días  \n",
       "6            1505.66  1892.34   Envío en 7 días  \n",
       "7             899.00   250.00  Envío en 35 días  \n",
       "8            1499.00   200.00   Envío en 7 días  \n",
       "9             242.10    26.90   Envío en 24/72h  \n",
       "10            233.10    25.90   Envío en 24/72h  \n",
       "11            233.10    25.90   Envío en 24/72h  \n",
       "12            143.10    15.90   Envío en 24/72h  \n",
       "13            499.00   200.00   Envío en 7 días  \n",
       "14            799.00   300.00  Envío en 15 días  \n",
       "15           1299.00   600.00   Envío en 7 días  \n",
       "16            999.00   160.00  Envío en 20 días  \n",
       "17             53.10     5.90   Envío en 24/72h  \n",
       "18            224.10    24.90   Envío en 24/72h  \n",
       "19             53.10     5.90   Envío en 24/72h  \n",
       "20            872.10   267.90  Envío en 60 días  \n",
       "21            341.10    37.90   Envío en 7 días  \n",
       "22           1475.10   453.14  Envío en 60 días  \n",
       "23            341.10    37.90   Envío en 7 días  \n",
       "24            359.10    39.90   Envío en 7 días  \n",
       "25            359.10    39.90   Envío en 7 días  \n",
       "26           1698.14  1499.86  Envío en 60 días  \n",
       "27           1079.10   519.57  Envío en 60 días  \n",
       "28            989.10   109.90  Envío en 75 días  \n",
       "29           1673.33   805.67  Envío en 60 días  \n",
       "30            899.10    99.90   Envío en 7 días  \n",
       "31           1889.10  2308.90  Envío en 60 días  "
      ]
     },
     "execution_count": 179,
     "metadata": {},
     "output_type": "execute_result"
    }
   ],
   "source": [
    "df"
   ]
  },
  {
   "cell_type": "code",
   "execution_count": 180,
   "id": "e072bd07",
   "metadata": {},
   "outputs": [],
   "source": [
    "df.to_csv(\"kenay.csv\")"
   ]
  },
  {
   "cell_type": "code",
   "execution_count": 181,
   "id": "69931077",
   "metadata": {},
   "outputs": [],
   "source": [
    "kenay = pd.read_csv('kenay.csv', index_col=0)"
   ]
  },
  {
   "cell_type": "markdown",
   "id": "2c60d3ee",
   "metadata": {},
   "source": [
    "### 1. El precio de ningún artículo superaba los 3,000 euros antes de la rebaja: FALSO- 4 de ellos superan ese precio."
   ]
  },
  {
   "cell_type": "code",
   "execution_count": 182,
   "id": "2f66f53d",
   "metadata": {},
   "outputs": [
    {
     "data": {
      "image/png": "[encoded data removed]",
      "text/plain": [
       "<Figure size 864x432 with 1 Axes>"
      ]
     },
     "metadata": {},
     "output_type": "display_data"
    }
   ],
   "source": [
    "barplot = sns.barplot(x=\"precios_original\", y=\"modelos\", data=kenay,ci=\"sd\");"
   ]
  },
  {
   "cell_type": "code",
   "execution_count": 211,
   "id": "d44045ab",
   "metadata": {},
   "outputs": [],
   "source": [
    "barplot.figure.savefig(\"precio_original_1.jpg\", dpi=1000,bbox_inches =\"tight\")"
   ]
  },
  {
   "cell_type": "markdown",
   "id": "d6cbbba7",
   "metadata": {},
   "source": [
    "### 2. La mayoría de los artículos se entregan en el plazo de 7 días: VERDADERO."
   ]
  },
  {
   "cell_type": "code",
   "execution_count": 183,
   "id": "ebd21fa0",
   "metadata": {},
   "outputs": [],
   "source": [
    "datos = kenay['plazo_entrega'].value_counts()"
   ]
  },
  {
   "cell_type": "code",
   "execution_count": 212,
   "id": "def75767",
   "metadata": {
    "scrolled": false
   },
   "outputs": [
    {
     "data": {
      "image/png": "[encoded data removed]",
      "text/plain": [
       "<Figure size 864x432 with 1 Axes>"
      ]
     },
     "metadata": {},
     "output_type": "display_data"
    }
   ],
   "source": [
    "entrega=datos.plot.pie(autopct=\"%.1f%%\");"
   ]
  },
  {
   "cell_type": "code",
   "execution_count": 213,
   "id": "0340eaef",
   "metadata": {},
   "outputs": [],
   "source": [
    "entrega.figure.savefig(\"plazo_entrega_2.jpg\", dpi=1000, bbox_inches =\"tight\")"
   ]
  },
  {
   "cell_type": "markdown",
   "id": "8f045306",
   "metadata": {},
   "source": [
    "### 3.  El 75% de los artículos están rebajados, al menos, en 900 euros: FALSO- Concretamente, la rebaja del 75% de los artículos es de, al menos, 651.42 €."
   ]
  },
  {
   "cell_type": "code",
   "execution_count": 214,
   "id": "bea5a4fb",
   "metadata": {},
   "outputs": [
    {
     "data": {
      "image/png": "[encoded data removed]",
      "text/plain": [
       "<Figure size 864x432 with 1 Axes>"
      ]
     },
     "metadata": {},
     "output_type": "display_data"
    }
   ],
   "source": [
    "rebaja=sns.boxplot(x=\"rebaja\", data=kenay);"
   ]
  },
  {
   "cell_type": "code",
   "execution_count": 186,
   "id": "b0134ff7",
   "metadata": {},
   "outputs": [
    {
     "data": {
      "text/plain": [
       "651.4175"
      ]
     },
     "execution_count": 186,
     "metadata": {},
     "output_type": "execute_result"
    }
   ],
   "source": [
    "kenay.rebaja.quantile(.75)"
   ]
  },
  {
   "cell_type": "code",
   "execution_count": 215,
   "id": "0290b6f8",
   "metadata": {},
   "outputs": [],
   "source": [
    "rebaja.figure.savefig(\"rebaja_3.jpg\", dpi=1000, bbox_inches =\"tight\")"
   ]
  },
  {
   "cell_type": "markdown",
   "id": "00d5ce77",
   "metadata": {},
   "source": [
    "### 4. Hay el mismo número de butacas rebajadas en Kenay que de pufs: FALSO- Hay una butaca más."
   ]
  },
  {
   "cell_type": "code",
   "execution_count": 187,
   "id": "738b9912",
   "metadata": {},
   "outputs": [],
   "source": [
    "fig = px.bar(kenay, x=kenay.tipo.value_counts().index, y=kenay.tipo.value_counts().values)"
   ]
  },
  {
   "cell_type": "code",
   "execution_count": 188,
   "id": "6a581ad8",
   "metadata": {
    "scrolled": false
   },
   "outputs": [
    {
     "data": {
      "application/vnd.plotly.v1+json": {
       "config": {
        "plotlyServerURL": "https://plot.ly"
       },
       "data": [
        {
         "alignmentgroup": "True",
         "hovertemplate": "x=%{x}<br>y=%{y}<extra></extra>",
         "legendgroup": "",
         "marker": {
          "color": "#636efa",
          "pattern": {
           "shape": ""
          }
         },
         "name": "",
         "offsetgroup": "",
         "orientation": "v",
         "showlegend": false,
         "textposition": "auto",
         "type": "bar",
         "x": [
          "SOFÁ",
          "BUTACA",
          "PUF"
         ],
         "xaxis": "x",
         "y": [
          25,
          4,
          3
         ],
         "yaxis": "y"
        }
       ],
       "layout": {
        "barmode": "relative",
        "legend": {
         "tracegroupgap": 0
        },
        "margin": {
         "t": 60
        },
        "template": {
         "data": {
          "bar": [
           {
            "error_x": {
             "color": "#2a3f5f"
            },
            "error_y": {
             "color": "#2a3f5f"
            },
            "marker": {
             "line": {
              "color": "#E5ECF6",
              "width": 0.5
             },
             "pattern": {
              "fillmode": "overlay",
              "size": 10,
              "solidity": 0.2
             }
            },
            "type": "bar"
           }
          ],
          "barpolar": [
           {
            "marker": {
             "line": {
              "color": "#E5ECF6",
              "width": 0.5
             },
             "pattern": {
              "fillmode": "overlay",
              "size": 10,
              "solidity": 0.2
             }
            },
            "type": "barpolar"
           }
          ],
          "carpet": [
           {
            "aaxis": {
             "endlinecolor": "#2a3f5f",
             "gridcolor": "white",
             "linecolor": "white",
             "minorgridcolor": "white",
             "startlinecolor": "#2a3f5f"
            },
            "baxis": {
             "endlinecolor": "#2a3f5f",
             "gridcolor": "white",
             "linecolor": "white",
             "minorgridcolor": "white",
             "startlinecolor": "#2a3f5f"
            },
            "type": "carpet"
           }
          ],
          "choropleth": [
           {
            "colorbar": {
             "outlinewidth": 0,
             "ticks": ""
            },
            "type": "choropleth"
           }
          ],
          "contour": [
           {
            "colorbar": {
             "outlinewidth": 0,
             "ticks": ""
            },
            "colorscale": [
             [
              0,
              "#0d0887"
             ],
             [
              0.1111111111111111,
              "#46039f"
             ],
             [
              0.2222222222222222,
              "#7201a8"
             ],
             [
              0.3333333333333333,
              "#9c179e"
             ],
             [
              0.4444444444444444,
              "#bd3786"
             ],
             [
              0.5555555555555556,
              "#d8576b"
             ],
             [
              0.6666666666666666,
              "#ed7953"
             ],
             [
              0.7777777777777778,
              "#fb9f3a"
             ],
             [
              0.8888888888888888,
              "#fdca26"
             ],
             [
              1,
              "#f0f921"
             ]
            ],
            "type": "contour"
           }
          ],
          "contourcarpet": [
           {
            "colorbar": {
             "outlinewidth": 0,
             "ticks": ""
            },
            "type": "contourcarpet"
           }
          ],
          "heatmap": [
           {
            "colorbar": {
             "outlinewidth": 0,
             "ticks": ""
            },
            "colorscale": [
             [
              0,
              "#0d0887"
             ],
             [
              0.1111111111111111,
              "#46039f"
             ],
             [
              0.2222222222222222,
              "#7201a8"
             ],
             [
              0.3333333333333333,
              "#9c179e"
             ],
             [
              0.4444444444444444,
              "#bd3786"
             ],
             [
              0.5555555555555556,
              "#d8576b"
             ],
             [
              0.6666666666666666,
              "#ed7953"
             ],
             [
              0.7777777777777778,
              "#fb9f3a"
             ],
             [
              0.8888888888888888,
              "#fdca26"
             ],
             [
              1,
              "#f0f921"
             ]
            ],
            "type": "heatmap"
           }
          ],
          "heatmapgl": [
           {
            "colorbar": {
             "outlinewidth": 0,
             "ticks": ""
            },
            "colorscale": [
             [
              0,
              "#0d0887"
             ],
             [
              0.1111111111111111,
              "#46039f"
             ],
             [
              0.2222222222222222,
              "#7201a8"
             ],
             [
              0.3333333333333333,
              "#9c179e"
             ],
             [
              0.4444444444444444,
              "#bd3786"
             ],
             [
              0.5555555555555556,
              "#d8576b"
             ],
             [
              0.6666666666666666,
              "#ed7953"
             ],
             [
              0.7777777777777778,
              "#fb9f3a"
             ],
             [
              0.8888888888888888,
              "#fdca26"
             ],
             [
              1,
              "#f0f921"
             ]
            ],
            "type": "heatmapgl"
           }
          ],
          "histogram": [
           {
            "marker": {
             "pattern": {
              "fillmode": "overlay",
              "size": 10,
              "solidity": 0.2
             }
            },
            "type": "histogram"
           }
          ],
          "histogram2d": [
           {
            "colorbar": {
             "outlinewidth": 0,
             "ticks": ""
            },
            "colorscale": [
             [
              0,
              "#0d0887"
             ],
             [
              0.1111111111111111,
              "#46039f"
             ],
             [
              0.2222222222222222,
              "#7201a8"
             ],
             [
              0.3333333333333333,
              "#9c179e"
             ],
             [
              0.4444444444444444,
              "#bd3786"
             ],
             [
              0.5555555555555556,
              "#d8576b"
             ],
             [
              0.6666666666666666,
              "#ed7953"
             ],
             [
              0.7777777777777778,
              "#fb9f3a"
             ],
             [
              0.8888888888888888,
              "#fdca26"
             ],
             [
              1,
              "#f0f921"
             ]
            ],
            "type": "histogram2d"
           }
          ],
          "histogram2dcontour": [
           {
            "colorbar": {
             "outlinewidth": 0,
             "ticks": ""
            },
            "colorscale": [
             [
              0,
              "#0d0887"
             ],
             [
              0.1111111111111111,
              "#46039f"
             ],
             [
              0.2222222222222222,
              "#7201a8"
             ],
             [
              0.3333333333333333,
              "#9c179e"
             ],
             [
              0.4444444444444444,
              "#bd3786"
             ],
             [
              0.5555555555555556,
              "#d8576b"
             ],
             [
              0.6666666666666666,
              "#ed7953"
             ],
             [
              0.7777777777777778,
              "#fb9f3a"
             ],
             [
              0.8888888888888888,
              "#fdca26"
             ],
             [
              1,
              "#f0f921"
             ]
            ],
            "type": "histogram2dcontour"
           }
          ],
          "mesh3d": [
           {
            "colorbar": {
             "outlinewidth": 0,
             "ticks": ""
            },
            "type": "mesh3d"
           }
          ],
          "parcoords": [
           {
            "line": {
             "colorbar": {
              "outlinewidth": 0,
              "ticks": ""
             }
            },
            "type": "parcoords"
           }
          ],
          "pie": [
           {
            "automargin": true,
            "type": "pie"
           }
          ],
          "scatter": [
           {
            "marker": {
             "colorbar": {
              "outlinewidth": 0,
              "ticks": ""
             }
            },
            "type": "scatter"
           }
          ],
          "scatter3d": [
           {
            "line": {
             "colorbar": {
              "outlinewidth": 0,
              "ticks": ""
             }
            },
            "marker": {
             "colorbar": {
              "outlinewidth": 0,
              "ticks": ""
             }
            },
            "type": "scatter3d"
           }
          ],
          "scattercarpet": [
           {
            "marker": {
             "colorbar": {
              "outlinewidth": 0,
              "ticks": ""
             }
            },
            "type": "scattercarpet"
           }
          ],
          "scattergeo": [
           {
            "marker": {
             "colorbar": {
              "outlinewidth": 0,
              "ticks": ""
             }
            },
            "type": "scattergeo"
           }
          ],
          "scattergl": [
           {
            "marker": {
             "colorbar": {
              "outlinewidth": 0,
              "ticks": ""
             }
            },
            "type": "scattergl"
           }
          ],
          "scattermapbox": [
           {
            "marker": {
             "colorbar": {
              "outlinewidth": 0,
              "ticks": ""
             }
            },
            "type": "scattermapbox"
           }
          ],
          "scatterpolar": [
           {
            "marker": {
             "colorbar": {
              "outlinewidth": 0,
              "ticks": ""
             }
            },
            "type": "scatterpolar"
           }
          ],
          "scatterpolargl": [
           {
            "marker": {
             "colorbar": {
              "outlinewidth": 0,
              "ticks": ""
             }
            },
            "type": "scatterpolargl"
           }
          ],
          "scatterternary": [
           {
            "marker": {
             "colorbar": {
              "outlinewidth": 0,
              "ticks": ""
             }
            },
            "type": "scatterternary"
           }
          ],
          "surface": [
           {
            "colorbar": {
             "outlinewidth": 0,
             "ticks": ""
            },
            "colorscale": [
             [
              0,
              "#0d0887"
             ],
             [
              0.1111111111111111,
              "#46039f"
             ],
             [
              0.2222222222222222,
              "#7201a8"
             ],
             [
              0.3333333333333333,
              "#9c179e"
             ],
             [
              0.4444444444444444,
              "#bd3786"
             ],
             [
              0.5555555555555556,
              "#d8576b"
             ],
             [
              0.6666666666666666,
              "#ed7953"
             ],
             [
              0.7777777777777778,
              "#fb9f3a"
             ],
             [
              0.8888888888888888,
              "#fdca26"
             ],
             [
              1,
              "#f0f921"
             ]
            ],
            "type": "surface"
           }
          ],
          "table": [
           {
            "cells": {
             "fill": {
              "color": "#EBF0F8"
             },
             "line": {
              "color": "white"
             }
            },
            "header": {
             "fill": {
              "color": "#C8D4E3"
             },
             "line": {
              "color": "white"
             }
            },
            "type": "table"
           }
          ]
         },
         "layout": {
          "annotationdefaults": {
           "arrowcolor": "#2a3f5f",
           "arrowhead": 0,
           "arrowwidth": 1
          },
          "autotypenumbers": "strict",
          "coloraxis": {
           "colorbar": {
            "outlinewidth": 0,
            "ticks": ""
           }
          },
          "colorscale": {
           "diverging": [
            [
             0,
             "#8e0152"
            ],
            [
             0.1,
             "#c51b7d"
            ],
            [
             0.2,
             "#de77ae"
            ],
            [
             0.3,
             "#f1b6da"
            ],
            [
             0.4,
             "#fde0ef"
            ],
            [
             0.5,
             "#f7f7f7"
            ],
            [
             0.6,
             "#e6f5d0"
            ],
            [
             0.7,
             "#b8e186"
            ],
            [
             0.8,
             "#7fbc41"
            ],
            [
             0.9,
             "#4d9221"
            ],
            [
             1,
             "#276419"
            ]
           ],
           "sequential": [
            [
             0,
             "#0d0887"
            ],
            [
             0.1111111111111111,
             "#46039f"
            ],
            [
             0.2222222222222222,
             "#7201a8"
            ],
            [
             0.3333333333333333,
             "#9c179e"
            ],
            [
             0.4444444444444444,
             "#bd3786"
            ],
            [
             0.5555555555555556,
             "#d8576b"
            ],
            [
             0.6666666666666666,
             "#ed7953"
            ],
            [
             0.7777777777777778,
             "#fb9f3a"
            ],
            [
             0.8888888888888888,
             "#fdca26"
            ],
            [
             1,
             "#f0f921"
            ]
           ],
           "sequentialminus": [
            [
             0,
             "#0d0887"
            ],
            [
             0.1111111111111111,
             "#46039f"
            ],
            [
             0.2222222222222222,
             "#7201a8"
            ],
            [
             0.3333333333333333,
             "#9c179e"
            ],
            [
             0.4444444444444444,
             "#bd3786"
            ],
            [
             0.5555555555555556,
             "#d8576b"
            ],
            [
             0.6666666666666666,
             "#ed7953"
            ],
            [
             0.7777777777777778,
             "#fb9f3a"
            ],
            [
             0.8888888888888888,
             "#fdca26"
            ],
            [
             1,
             "#f0f921"
            ]
           ]
          },
          "colorway": [
           "#636efa",
           "#EF553B",
           "#00cc96",
           "#ab63fa",
           "#FFA15A",
           "#19d3f3",
           "#FF6692",
           "#B6E880",
           "#FF97FF",
           "#FECB52"
          ],
          "font": {
           "color": "#2a3f5f"
          },
          "geo": {
           "bgcolor": "white",
           "lakecolor": "white",
           "landcolor": "#E5ECF6",
           "showlakes": true,
           "showland": true,
           "subunitcolor": "white"
          },
          "hoverlabel": {
           "align": "left"
          },
          "hovermode": "closest",
          "mapbox": {
           "style": "light"
          },
          "paper_bgcolor": "white",
          "plot_bgcolor": "#E5ECF6",
          "polar": {
           "angularaxis": {
            "gridcolor": "white",
            "linecolor": "white",
            "ticks": ""
           },
           "bgcolor": "#E5ECF6",
           "radialaxis": {
            "gridcolor": "white",
            "linecolor": "white",
            "ticks": ""
           }
          },
          "scene": {
           "xaxis": {
            "backgroundcolor": "#E5ECF6",
            "gridcolor": "white",
            "gridwidth": 2,
            "linecolor": "white",
            "showbackground": true,
            "ticks": "",
            "zerolinecolor": "white"
           },
           "yaxis": {
            "backgroundcolor": "#E5ECF6",
            "gridcolor": "white",
            "gridwidth": 2,
            "linecolor": "white",
            "showbackground": true,
            "ticks": "",
            "zerolinecolor": "white"
           },
           "zaxis": {
            "backgroundcolor": "#E5ECF6",
            "gridcolor": "white",
            "gridwidth": 2,
            "linecolor": "white",
            "showbackground": true,
            "ticks": "",
            "zerolinecolor": "white"
           }
          },
          "shapedefaults": {
           "line": {
            "color": "#2a3f5f"
           }
          },
          "ternary": {
           "aaxis": {
            "gridcolor": "white",
            "linecolor": "white",
            "ticks": ""
           },
           "baxis": {
            "gridcolor": "white",
            "linecolor": "white",
            "ticks": ""
           },
           "bgcolor": "#E5ECF6",
           "caxis": {
            "gridcolor": "white",
            "linecolor": "white",
            "ticks": ""
           }
          },
          "title": {
           "x": 0.05
          },
          "xaxis": {
           "automargin": true,
           "gridcolor": "white",
           "linecolor": "white",
           "ticks": "",
           "title": {
            "standoff": 15
           },
           "zerolinecolor": "white",
           "zerolinewidth": 2
          },
          "yaxis": {
           "automargin": true,
           "gridcolor": "white",
           "linecolor": "white",
           "ticks": "",
           "title": {
            "standoff": 15
           },
           "zerolinecolor": "white",
           "zerolinewidth": 2
          }
         }
        },
        "xaxis": {
         "anchor": "y",
         "domain": [
          0,
          1
         ],
         "title": {
          "text": "x"
         }
        },
        "yaxis": {
         "anchor": "x",
         "domain": [
          0,
          1
         ],
         "title": {
          "text": "y"
         }
        }
       }
      },
      "text/html": [
       "<div>                            <div id=\"1b9d2fcb-7b01-4105-b5a7-45a276eb138d\" class=\"plotly-graph-div\" style=\"height:525px; width:100%;\"></div>            <script type=\"text/javascript\">                require([\"plotly\"], function(Plotly) {                    window.PLOTLYENV=window.PLOTLYENV || {};                                    if (document.getElementById(\"1b9d2fcb-7b01-4105-b5a7-45a276eb138d\")) {                    Plotly.newPlot(                        \"1b9d2fcb-7b01-4105-b5a7-45a276eb138d\",                        [{\"alignmentgroup\":\"True\",\"hovertemplate\":\"x=%{x}<br>y=%{y}<extra></extra>\",\"legendgroup\":\"\",\"marker\":{\"color\":\"#636efa\",\"pattern\":{\"shape\":\"\"}},\"name\":\"\",\"offsetgroup\":\"\",\"orientation\":\"v\",\"showlegend\":false,\"textposition\":\"auto\",\"type\":\"bar\",\"x\":[\"SOF\\u00c1\",\"BUTACA\",\"PUF\"],\"xaxis\":\"x\",\"y\":[25,4,3],\"yaxis\":\"y\"}],                        {\"barmode\":\"relative\",\"legend\":{\"tracegroupgap\":0},\"margin\":{\"t\":60},\"template\":{\"data\":{\"bar\":[{\"error_x\":{\"color\":\"#2a3f5f\"},\"error_y\":{\"color\":\"#2a3f5f\"},\"marker\":{\"line\":{\"color\":\"#E5ECF6\",\"width\":0.5},\"pattern\":{\"fillmode\":\"overlay\",\"size\":10,\"solidity\":0.2}},\"type\":\"bar\"}],\"barpolar\":[{\"marker\":{\"line\":{\"color\":\"#E5ECF6\",\"width\":0.5},\"pattern\":{\"fillmode\":\"overlay\",\"size\":10,\"solidity\":0.2}},\"type\":\"barpolar\"}],\"carpet\":[{\"aaxis\":{\"endlinecolor\":\"#2a3f5f\",\"gridcolor\":\"white\",\"linecolor\":\"white\",\"minorgridcolor\":\"white\",\"startlinecolor\":\"#2a3f5f\"},\"baxis\":{\"endlinecolor\":\"#2a3f5f\",\"gridcolor\":\"white\",\"linecolor\":\"white\",\"minorgridcolor\":\"white\",\"startlinecolor\":\"#2a3f5f\"},\"type\":\"carpet\"}],\"choropleth\":[{\"colorbar\":{\"outlinewidth\":0,\"ticks\":\"\"},\"type\":\"choropleth\"}],\"contour\":[{\"colorbar\":{\"outlinewidth\":0,\"ticks\":\"\"},\"colorscale\":[[0.0,\"#0d0887\"],[0.1111111111111111,\"#46039f\"],[0.2222222222222222,\"#7201a8\"],[0.3333333333333333,\"#9c179e\"],[0.4444444444444444,\"#bd3786\"],[0.5555555555555556,\"#d8576b\"],[0.6666666666666666,\"#ed7953\"],[0.7777777777777778,\"#fb9f3a\"],[0.8888888888888888,\"#fdca26\"],[1.0,\"#f0f921\"]],\"type\":\"contour\"}],\"contourcarpet\":[{\"colorbar\":{\"outlinewidth\":0,\"ticks\":\"\"},\"type\":\"contourcarpet\"}],\"heatmap\":[{\"colorbar\":{\"outlinewidth\":0,\"ticks\":\"\"},\"colorscale\":[[0.0,\"#0d0887\"],[0.1111111111111111,\"#46039f\"],[0.2222222222222222,\"#7201a8\"],[0.3333333333333333,\"#9c179e\"],[0.4444444444444444,\"#bd3786\"],[0.5555555555555556,\"#d8576b\"],[0.6666666666666666,\"#ed7953\"],[0.7777777777777778,\"#fb9f3a\"],[0.8888888888888888,\"#fdca26\"],[1.0,\"#f0f921\"]],\"type\":\"heatmap\"}],\"heatmapgl\":[{\"colorbar\":{\"outlinewidth\":0,\"ticks\":\"\"},\"colorscale\":[[0.0,\"#0d0887\"],[0.1111111111111111,\"#46039f\"],[0.2222222222222222,\"#7201a8\"],[0.3333333333333333,\"#9c179e\"],[0.4444444444444444,\"#bd3786\"],[0.5555555555555556,\"#d8576b\"],[0.6666666666666666,\"#ed7953\"],[0.7777777777777778,\"#fb9f3a\"],[0.8888888888888888,\"#fdca26\"],[1.0,\"#f0f921\"]],\"type\":\"heatmapgl\"}],\"histogram\":[{\"marker\":{\"pattern\":{\"fillmode\":\"overlay\",\"size\":10,\"solidity\":0.2}},\"type\":\"histogram\"}],\"histogram2d\":[{\"colorbar\":{\"outlinewidth\":0,\"ticks\":\"\"},\"colorscale\":[[0.0,\"#0d0887\"],[0.1111111111111111,\"#46039f\"],[0.2222222222222222,\"#7201a8\"],[0.3333333333333333,\"#9c179e\"],[0.4444444444444444,\"#bd3786\"],[0.5555555555555556,\"#d8576b\"],[0.6666666666666666,\"#ed7953\"],[0.7777777777777778,\"#fb9f3a\"],[0.8888888888888888,\"#fdca26\"],[1.0,\"#f0f921\"]],\"type\":\"histogram2d\"}],\"histogram2dcontour\":[{\"colorbar\":{\"outlinewidth\":0,\"ticks\":\"\"},\"colorscale\":[[0.0,\"#0d0887\"],[0.1111111111111111,\"#46039f\"],[0.2222222222222222,\"#7201a8\"],[0.3333333333333333,\"#9c179e\"],[0.4444444444444444,\"#bd3786\"],[0.5555555555555556,\"#d8576b\"],[0.6666666666666666,\"#ed7953\"],[0.7777777777777778,\"#fb9f3a\"],[0.8888888888888888,\"#fdca26\"],[1.0,\"#f0f921\"]],\"type\":\"histogram2dcontour\"}],\"mesh3d\":[{\"colorbar\":{\"outlinewidth\":0,\"ticks\":\"\"},\"type\":\"mesh3d\"}],\"parcoords\":[{\"line\":{\"colorbar\":{\"outlinewidth\":0,\"ticks\":\"\"}},\"type\":\"parcoords\"}],\"pie\":[{\"automargin\":true,\"type\":\"pie\"}],\"scatter\":[{\"marker\":{\"colorbar\":{\"outlinewidth\":0,\"ticks\":\"\"}},\"type\":\"scatter\"}],\"scatter3d\":[{\"line\":{\"colorbar\":{\"outlinewidth\":0,\"ticks\":\"\"}},\"marker\":{\"colorbar\":{\"outlinewidth\":0,\"ticks\":\"\"}},\"type\":\"scatter3d\"}],\"scattercarpet\":[{\"marker\":{\"colorbar\":{\"outlinewidth\":0,\"ticks\":\"\"}},\"type\":\"scattercarpet\"}],\"scattergeo\":[{\"marker\":{\"colorbar\":{\"outlinewidth\":0,\"ticks\":\"\"}},\"type\":\"scattergeo\"}],\"scattergl\":[{\"marker\":{\"colorbar\":{\"outlinewidth\":0,\"ticks\":\"\"}},\"type\":\"scattergl\"}],\"scattermapbox\":[{\"marker\":{\"colorbar\":{\"outlinewidth\":0,\"ticks\":\"\"}},\"type\":\"scattermapbox\"}],\"scatterpolar\":[{\"marker\":{\"colorbar\":{\"outlinewidth\":0,\"ticks\":\"\"}},\"type\":\"scatterpolar\"}],\"scatterpolargl\":[{\"marker\":{\"colorbar\":{\"outlinewidth\":0,\"ticks\":\"\"}},\"type\":\"scatterpolargl\"}],\"scatterternary\":[{\"marker\":{\"colorbar\":{\"outlinewidth\":0,\"ticks\":\"\"}},\"type\":\"scatterternary\"}],\"surface\":[{\"colorbar\":{\"outlinewidth\":0,\"ticks\":\"\"},\"colorscale\":[[0.0,\"#0d0887\"],[0.1111111111111111,\"#46039f\"],[0.2222222222222222,\"#7201a8\"],[0.3333333333333333,\"#9c179e\"],[0.4444444444444444,\"#bd3786\"],[0.5555555555555556,\"#d8576b\"],[0.6666666666666666,\"#ed7953\"],[0.7777777777777778,\"#fb9f3a\"],[0.8888888888888888,\"#fdca26\"],[1.0,\"#f0f921\"]],\"type\":\"surface\"}],\"table\":[{\"cells\":{\"fill\":{\"color\":\"#EBF0F8\"},\"line\":{\"color\":\"white\"}},\"header\":{\"fill\":{\"color\":\"#C8D4E3\"},\"line\":{\"color\":\"white\"}},\"type\":\"table\"}]},\"layout\":{\"annotationdefaults\":{\"arrowcolor\":\"#2a3f5f\",\"arrowhead\":0,\"arrowwidth\":1},\"autotypenumbers\":\"strict\",\"coloraxis\":{\"colorbar\":{\"outlinewidth\":0,\"ticks\":\"\"}},\"colorscale\":{\"diverging\":[[0,\"#8e0152\"],[0.1,\"#c51b7d\"],[0.2,\"#de77ae\"],[0.3,\"#f1b6da\"],[0.4,\"#fde0ef\"],[0.5,\"#f7f7f7\"],[0.6,\"#e6f5d0\"],[0.7,\"#b8e186\"],[0.8,\"#7fbc41\"],[0.9,\"#4d9221\"],[1,\"#276419\"]],\"sequential\":[[0.0,\"#0d0887\"],[0.1111111111111111,\"#46039f\"],[0.2222222222222222,\"#7201a8\"],[0.3333333333333333,\"#9c179e\"],[0.4444444444444444,\"#bd3786\"],[0.5555555555555556,\"#d8576b\"],[0.6666666666666666,\"#ed7953\"],[0.7777777777777778,\"#fb9f3a\"],[0.8888888888888888,\"#fdca26\"],[1.0,\"#f0f921\"]],\"sequentialminus\":[[0.0,\"#0d0887\"],[0.1111111111111111,\"#46039f\"],[0.2222222222222222,\"#7201a8\"],[0.3333333333333333,\"#9c179e\"],[0.4444444444444444,\"#bd3786\"],[0.5555555555555556,\"#d8576b\"],[0.6666666666666666,\"#ed7953\"],[0.7777777777777778,\"#fb9f3a\"],[0.8888888888888888,\"#fdca26\"],[1.0,\"#f0f921\"]]},\"colorway\":[\"#636efa\",\"#EF553B\",\"#00cc96\",\"#ab63fa\",\"#FFA15A\",\"#19d3f3\",\"#FF6692\",\"#B6E880\",\"#FF97FF\",\"#FECB52\"],\"font\":{\"color\":\"#2a3f5f\"},\"geo\":{\"bgcolor\":\"white\",\"lakecolor\":\"white\",\"landcolor\":\"#E5ECF6\",\"showlakes\":true,\"showland\":true,\"subunitcolor\":\"white\"},\"hoverlabel\":{\"align\":\"left\"},\"hovermode\":\"closest\",\"mapbox\":{\"style\":\"light\"},\"paper_bgcolor\":\"white\",\"plot_bgcolor\":\"#E5ECF6\",\"polar\":{\"angularaxis\":{\"gridcolor\":\"white\",\"linecolor\":\"white\",\"ticks\":\"\"},\"bgcolor\":\"#E5ECF6\",\"radialaxis\":{\"gridcolor\":\"white\",\"linecolor\":\"white\",\"ticks\":\"\"}},\"scene\":{\"xaxis\":{\"backgroundcolor\":\"#E5ECF6\",\"gridcolor\":\"white\",\"gridwidth\":2,\"linecolor\":\"white\",\"showbackground\":true,\"ticks\":\"\",\"zerolinecolor\":\"white\"},\"yaxis\":{\"backgroundcolor\":\"#E5ECF6\",\"gridcolor\":\"white\",\"gridwidth\":2,\"linecolor\":\"white\",\"showbackground\":true,\"ticks\":\"\",\"zerolinecolor\":\"white\"},\"zaxis\":{\"backgroundcolor\":\"#E5ECF6\",\"gridcolor\":\"white\",\"gridwidth\":2,\"linecolor\":\"white\",\"showbackground\":true,\"ticks\":\"\",\"zerolinecolor\":\"white\"}},\"shapedefaults\":{\"line\":{\"color\":\"#2a3f5f\"}},\"ternary\":{\"aaxis\":{\"gridcolor\":\"white\",\"linecolor\":\"white\",\"ticks\":\"\"},\"baxis\":{\"gridcolor\":\"white\",\"linecolor\":\"white\",\"ticks\":\"\"},\"bgcolor\":\"#E5ECF6\",\"caxis\":{\"gridcolor\":\"white\",\"linecolor\":\"white\",\"ticks\":\"\"}},\"title\":{\"x\":0.05},\"xaxis\":{\"automargin\":true,\"gridcolor\":\"white\",\"linecolor\":\"white\",\"ticks\":\"\",\"title\":{\"standoff\":15},\"zerolinecolor\":\"white\",\"zerolinewidth\":2},\"yaxis\":{\"automargin\":true,\"gridcolor\":\"white\",\"linecolor\":\"white\",\"ticks\":\"\",\"title\":{\"standoff\":15},\"zerolinecolor\":\"white\",\"zerolinewidth\":2}}},\"xaxis\":{\"anchor\":\"y\",\"domain\":[0.0,1.0],\"title\":{\"text\":\"x\"}},\"yaxis\":{\"anchor\":\"x\",\"domain\":[0.0,1.0],\"title\":{\"text\":\"y\"}}},                        {\"responsive\": true}                    ).then(function(){\n",
       "                            \n",
       "var gd = document.getElementById('1b9d2fcb-7b01-4105-b5a7-45a276eb138d');\n",
       "var x = new MutationObserver(function (mutations, observer) {{\n",
       "        var display = window.getComputedStyle(gd).display;\n",
       "        if (!display || display === 'none') {{\n",
       "            console.log([gd, 'removed!']);\n",
       "            Plotly.purge(gd);\n",
       "            observer.disconnect();\n",
       "        }}\n",
       "}});\n",
       "\n",
       "// Listen for the removal of the full notebook cells\n",
       "var notebookContainer = gd.closest('#notebook-container');\n",
       "if (notebookContainer) {{\n",
       "    x.observe(notebookContainer, {childList: true});\n",
       "}}\n",
       "\n",
       "// Listen for the clearing of the current output cell\n",
       "var outputEl = gd.closest('.output');\n",
       "if (outputEl) {{\n",
       "    x.observe(outputEl, {childList: true});\n",
       "}}\n",
       "\n",
       "                        })                };                });            </script>        </div>"
      ]
     },
     "metadata": {},
     "output_type": "display_data"
    }
   ],
   "source": [
    "fig"
   ]
  },
  {
   "cell_type": "markdown",
   "id": "2c6c7188",
   "metadata": {},
   "source": [
    "### 5. Los precios de los sofás tras la rebaja rondan los 1,000 euros de media: VERDADERO"
   ]
  },
  {
   "cell_type": "code",
   "execution_count": 197,
   "id": "7eb46e10",
   "metadata": {},
   "outputs": [],
   "source": [
    "agrupado=pd.DataFrame(kenay.groupby(\"tipo\")[\"precios_rebajado\"].mean()).reset_index()"
   ]
  },
  {
   "cell_type": "code",
   "execution_count": 198,
   "id": "04afb20a",
   "metadata": {},
   "outputs": [
    {
     "data": {
      "text/html": [
       "<div>\n",
       "<style scoped>\n",
       "    .dataframe tbody tr th:only-of-type {\n",
       "        vertical-align: middle;\n",
       "    }\n",
       "\n",
       "    .dataframe tbody tr th {\n",
       "        vertical-align: top;\n",
       "    }\n",
       "\n",
       "    .dataframe thead th {\n",
       "        text-align: right;\n",
       "    }\n",
       "</style>\n",
       "<table border=\"1\" class=\"dataframe\">\n",
       "  <thead>\n",
       "    <tr style=\"text-align: right;\">\n",
       "      <th></th>\n",
       "      <th>tipo</th>\n",
       "      <th>precios_rebajado</th>\n",
       "    </tr>\n",
       "  </thead>\n",
       "  <tbody>\n",
       "    <tr>\n",
       "      <th>0</th>\n",
       "      <td>BUTACA</td>\n",
       "      <td>233.1000</td>\n",
       "    </tr>\n",
       "    <tr>\n",
       "      <th>1</th>\n",
       "      <td>PUF</td>\n",
       "      <td>83.1000</td>\n",
       "    </tr>\n",
       "    <tr>\n",
       "      <th>2</th>\n",
       "      <td>SOFÁ</td>\n",
       "      <td>1036.6232</td>\n",
       "    </tr>\n",
       "  </tbody>\n",
       "</table>\n",
       "</div>"
      ],
      "text/plain": [
       "     tipo  precios_rebajado\n",
       "0  BUTACA          233.1000\n",
       "1     PUF           83.1000\n",
       "2    SOFÁ         1036.6232"
      ]
     },
     "execution_count": 198,
     "metadata": {},
     "output_type": "execute_result"
    }
   ],
   "source": [
    "agrupado"
   ]
  },
  {
   "cell_type": "code",
   "execution_count": 199,
   "id": "e48c9e67",
   "metadata": {},
   "outputs": [
    {
     "data": {
      "image/png": "[encoded data removed]",
      "text/plain": [
       "<Figure size 864x432 with 1 Axes>"
      ]
     },
     "metadata": {},
     "output_type": "display_data"
    }
   ],
   "source": [
    "precio_rebajamedio = sns.barplot(x=\"tipo\", y=\"precios_rebajado\", data=agrupado,ci=\"sd\");"
   ]
  },
  {
   "cell_type": "code",
   "execution_count": 219,
   "id": "f1b5eed8",
   "metadata": {},
   "outputs": [],
   "source": [
    "precio_rebajamedio.figure.savefig(\"precio_medio_rebaja_5.jpg\", dpi=1000, bbox_inches =\"tight\")"
   ]
  }
 ],
 "metadata": {
  "kernelspec": {
   "display_name": "ironhack",
   "language": "python",
   "name": "ironhack"
  },
  "language_info": {
   "codemirror_mode": {
    "name": "ipython",
    "version": 3
   },
   "file_extension": ".py",
   "mimetype": "text/x-python",
   "name": "python",
   "nbconvert_exporter": "python",
   "pygments_lexer": "ipython3",
   "version": "3.8.5"
  }
 },
 "nbformat": 4,
 "nbformat_minor": 5
}
