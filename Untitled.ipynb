{
 "cells": [
  {
   "cell_type": "markdown",
   "id": "02bcbfbf",
   "metadata": {},
   "source": [
    "# Selenium_project:\n",
    "![portada (foto_kenay)\n",
    "​\n",
    "# Objetivo:\n",
    "Este proyecto tiene como objetivo verificar o rechazar las 5 hipótesis planteadas sobre los datos recabados de la página web Kenay Home a través de visualizaciones. \n",
    "\n",
    "Las hipótesis son las siguientes:\n",
    "​\n",
    "- **El precio de ningún artículo superaba los 3,000 euros antes de la rebaja:** FALSO --> 4 de ellos superan ese precio.\n",
    "- **La mayoría de los sofás se entregan en el plazo de 7 días:** --> VERDADERO.\n",
    "- **El 75% de los sofás están rebajados, al menos, en 900 euros:** FALSO --> Concretamente, la rebaja del 75% de los sofás es de, al menos, 651.42 €.\n",
    "- **Hay el mismo número de butacas rebajadas en Kenay que de pufs:** FALSO --> Hay una butaca más.\n",
    "- **Los precios de los sofás tras la rebaja rondan los 1,000 euros de media:** VERDADERO.\n",
    "\n",
    "​\n",
    "# Desarrollo: \n",
    "En primer lugar,he escrapeado el apartado de Sofás con ofertas de \"Black Friday\" de la página web de Kenay Homes usando **Selenium**. Mediante esta técnica, he recabado los datos relativos a los nombres de los artículos, el precio original, el precio rebajado y el plazo previsto de entrega de los mismos.\n",
    "\n",
    "Luego, con esos datos, he creado un dataframe, lo he limpiado transformando el tipo de algunos datos de string a float para poder así operar con ellos y creado algunas columnas nuevas a través del uso de funciones y también operando con las ya existentes.\n",
    "\n",
    "Para todo ello, he utilizado la fuente de la página oficial de Kenay Homes (\"https://kenayhome.com/es/\").\n",
    "\n",
    "\n",
    "### Estructura del proyecto:\n",
    "​\n",
    "La estructura del proyecto se compone de:\n",
    " 1. Un archivo Jupyter Notebook:en él he llevado a cabo el escrapeo usando Selenium, he creado mi df y mostrado mis cinco visualizaciones que prueban o desmienten mis hipótesis.\n",
    "​\n",
    " 2. Readme.\n",
    "​\n",
    " 3. Output: dataframe importado en formato csv como resultado del escrapeo y limpieza de los datos.\n",
    "​\n",
    "​\n",
    "# Libraries\n",
    "- **Pandas** (https://pandas.pydata.org/)\n",
    "- **re** (https://docs.python.org/3/library/re.html)\n",
    "- **Selenium** (https://www.selenium.dev/es/documentation/)\n",
    "- **Plotly.express** (https://plotly.com/python-api-reference/plotly.express.html)\n",
    "- **Seaborn** (https://seaborn.pydata.org/)\n",
    "- **Matplotli.pyplot** (https://matplotlib.org/stable/api/_as_gen/matplotlib.pyplot.html)\n",
    "- **Selenium web driver** (https://www.selenium.dev/documentation/webdriver/)\n",
    "- **matplotlib** (https://matplotlib.org/)\n",
    "- **time** \n",
    " \n",
    "\n",
    "\n",
    "\n",
    "\n",
    "\n",
    "\n",
    "\n",
    "import time\n",
    "\n"
   ]
  },
  {
   "cell_type": "markdown",
   "id": "ca38ca84",
   "metadata": {},
   "source": []
  }
 ],
 "metadata": {
  "kernelspec": {
   "display_name": "ironhack",
   "language": "python",
   "name": "ironhack"
  },
  "language_info": {
   "codemirror_mode": {
    "name": "ipython",
    "version": 3
   },
   "file_extension": ".py",
   "mimetype": "text/x-python",
   "name": "python",
   "nbconvert_exporter": "python",
   "pygments_lexer": "ipython3",
   "version": "3.8.5"
  }
 },
 "nbformat": 4,
 "nbformat_minor": 5
}
